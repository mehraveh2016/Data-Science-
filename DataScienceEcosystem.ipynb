{
  "metadata": {
    "language_info": {
      "codemirror_mode": {
        "name": "python",
        "version": 3
      },
      "file_extension": ".py",
      "mimetype": "text/x-python",
      "name": "python",
      "nbconvert_exporter": "python",
      "pygments_lexer": "ipython3",
      "version": "3.8"
    },
    "kernelspec": {
      "name": "python",
      "display_name": "Python (Pyodide)",
      "language": "python"
    }
  },
  "nbformat_minor": 4,
  "nbformat": 4,
  "cells": [
    {
      "cell_type": "markdown",
      "source": "**Exercise 2: Create markdown cell with title of the notebook**\n\n# H1: Data Science Tools and Ecosystem\n",
      "metadata": {}
    },
    {
      "cell_type": "markdown",
      "source": "**Exercise 3 - Create a markdown cell for an introduction**\n\nIn this notebook, Data Science Tools and Ecosystem are summarized.\n\nKey elements of the data science ecosystem include:\n\n+ Data collection and preparation: Tools for extracting, cleaning, and wrangling data from various sources.\n\n+ Data analysis and visualization: Tools for exploring, analyzing, and visualizing data to uncover patterns and insights.\n\n+ Machine learning and modeling: Tools for building predictive models from data to make predictions or identify patterns.\n\n+ Data science platforms: Unified platforms that provide a complete environment for the data science workflow.",
      "metadata": {}
    },
    {
      "cell_type": "markdown",
      "source": "**Exercise 10 - Insert a markdown cell to list Objectives**\n\n**Objectives:**\n+ Title\n+ Data Science popular Languages\n+ Data Science Popular Libraries\n+ Data Science popular Tools\n+ Arithmatic Operations\n\n",
      "metadata": {}
    },
    {
      "cell_type": "markdown",
      "source": "**Exercise 4 - Create a markdown cell to list data science languages**\n\nSome of the popular languages that Data Scientists use are:\n\n1-Python\n\n2-R\n\n3-Java",
      "metadata": {}
    },
    {
      "cell_type": "markdown",
      "source": "**Exercise 5 - Create a markdown cell to list data science libraries**\n\nSome of the commonly used libraries used by Data Scientists include:\n\n1.Panda\n\n2.Numpy\n\n3.Tensorflow",
      "metadata": {}
    },
    {
      "cell_type": "markdown",
      "source": "**Exercise 6 - Create a markdown cell with a table of Data Science tools**\n\n| Data Science Tools |\n| -------------------|\n| Jupyter Lab|\n| Anaconda|\n| Jupyter Notebook|",
      "metadata": {}
    },
    {
      "cell_type": "markdown",
      "source": "**Exercise 7 - Create a markdown cell introducing arithmetic expression examples**\n\n### H3:Below are a few examples of evaluating arithmetic expressions in Python",
      "metadata": {}
    },
    {
      "cell_type": "markdown",
      "source": "**Exercise 8 - Create a code cell to multiply and add numbers**",
      "metadata": {}
    },
    {
      "cell_type": "code",
      "source": "#This a simple arithmetic expression to mutiply then add integers\n(3*4)+5",
      "metadata": {
        "trusted": true
      },
      "execution_count": 2,
      "outputs": [
        {
          "execution_count": 2,
          "output_type": "execute_result",
          "data": {
            "text/plain": "17"
          },
          "metadata": {}
        }
      ]
    },
    {
      "cell_type": "markdown",
      "source": "**Exercise 9 - Create a code cell to convert minutes to hours**",
      "metadata": {}
    },
    {
      "cell_type": "code",
      "source": "#This will convert 200 minutes to hours by diving by 60\n\n# Define the number of minutes\nM = 200\n\n# Convert minutes to hours\nH = M / 60\n\n# Print the result\nprint(H)",
      "metadata": {
        "trusted": true
      },
      "execution_count": 3,
      "outputs": [
        {
          "name": "stdout",
          "text": "3.3333333333333335\n",
          "output_type": "stream"
        }
      ]
    },
    {
      "cell_type": "markdown",
      "source": "**Exercise 11 - Create a markdown cell to indicate the Author's name**",
      "metadata": {}
    },
    {
      "cell_type": "markdown",
      "source": "## H2: Author: Mehraveh Alaei Mahabady",
      "metadata": {}
    },
    {
      "cell_type": "code",
      "source": "",
      "metadata": {},
      "execution_count": null,
      "outputs": []
    }
  ]
}